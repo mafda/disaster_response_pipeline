{
 "cells": [
  {
   "cell_type": "markdown",
   "metadata": {},
   "source": [
    "# ML Pipeline Preparation\n",
    "Follow the instructions below to help you create your ML pipeline.\n",
    "### 1. Import libraries and load data from database.\n",
    "- Import Python libraries\n",
    "- Load dataset from database with [`read_sql_table`](https://pandas.pydata.org/pandas-docs/stable/generated/pandas.read_sql_table.html)\n",
    "- Define feature and target variables X and Y"
   ]
  },
  {
   "cell_type": "code",
   "execution_count": 36,
   "metadata": {},
   "outputs": [],
   "source": [
    "import pandas as pd\n",
    "pd.set_option('display.max_columns', 500)\n",
    "\n",
    "import os\n",
    "from sqlalchemy import create_engine\n",
    "import re\n",
    "from sklearn.pipeline import Pipeline\n",
    "from sklearn.feature_extraction.text import TfidfTransformer, CountVectorizer\n",
    "from sklearn.ensemble import RandomForestClassifier\n",
    "from sklearn.multioutput import MultiOutputClassifier\n",
    "from sklearn.model_selection import train_test_split\n",
    "from sklearn.metrics import classification_report\n",
    "\n",
    "from sklearn.metrics import accuracy_score, precision_score, recall_score, f1_score, make_scorer\n",
    "import numpy as np\n",
    "\n",
    "import warnings\n",
    "\n",
    "warnings.simplefilter('ignore')"
   ]
  },
  {
   "cell_type": "code",
   "execution_count": 2,
   "metadata": {},
   "outputs": [
    {
     "name": "stderr",
     "output_type": "stream",
     "text": [
      "[nltk_data] Downloading package punkt to /Users/mafda/nltk_data...\n",
      "[nltk_data]   Package punkt is already up-to-date!\n",
      "[nltk_data] Downloading package wordnet to /Users/mafda/nltk_data...\n",
      "[nltk_data]   Package wordnet is already up-to-date!\n",
      "[nltk_data] Downloading package averaged_perceptron_tagger to\n",
      "[nltk_data]     /Users/mafda/nltk_data...\n",
      "[nltk_data]   Package averaged_perceptron_tagger is already up-to-\n",
      "[nltk_data]       date!\n"
     ]
    },
    {
     "data": {
      "text/plain": [
       "True"
      ]
     },
     "execution_count": 2,
     "metadata": {},
     "output_type": "execute_result"
    }
   ],
   "source": [
    "# import libraries\n",
    "import nltk\n",
    "nltk.download('punkt')\n",
    "nltk.download('wordnet')\n",
    "nltk.download('averaged_perceptron_tagger')"
   ]
  },
  {
   "cell_type": "code",
   "execution_count": 3,
   "metadata": {},
   "outputs": [],
   "source": [
    "# load data from database\n",
    "database_filepath = \"../data/DisasterResponse.db\"\n",
    "engine = create_engine('sqlite:///' + database_filepath)\n",
    "table_name = os.path.basename(database_filepath).replace(\".db\",\"\") + \"_table\"\n",
    "df = pd.read_sql_table(table_name, engine)"
   ]
  },
  {
   "cell_type": "code",
   "execution_count": 4,
   "metadata": {},
   "outputs": [
    {
     "data": {
      "text/html": [
       "<div>\n",
       "<style scoped>\n",
       "    .dataframe tbody tr th:only-of-type {\n",
       "        vertical-align: middle;\n",
       "    }\n",
       "\n",
       "    .dataframe tbody tr th {\n",
       "        vertical-align: top;\n",
       "    }\n",
       "\n",
       "    .dataframe thead th {\n",
       "        text-align: right;\n",
       "    }\n",
       "</style>\n",
       "<table border=\"1\" class=\"dataframe\">\n",
       "  <thead>\n",
       "    <tr style=\"text-align: right;\">\n",
       "      <th></th>\n",
       "      <th>id</th>\n",
       "      <th>message</th>\n",
       "      <th>original</th>\n",
       "      <th>genre</th>\n",
       "      <th>related</th>\n",
       "      <th>request</th>\n",
       "      <th>offer</th>\n",
       "      <th>aid_related</th>\n",
       "      <th>medical_help</th>\n",
       "      <th>medical_products</th>\n",
       "      <th>search_and_rescue</th>\n",
       "      <th>security</th>\n",
       "      <th>military</th>\n",
       "      <th>child_alone</th>\n",
       "      <th>water</th>\n",
       "      <th>food</th>\n",
       "      <th>shelter</th>\n",
       "      <th>clothing</th>\n",
       "      <th>money</th>\n",
       "      <th>missing_people</th>\n",
       "      <th>refugees</th>\n",
       "      <th>death</th>\n",
       "      <th>other_aid</th>\n",
       "      <th>infrastructure_related</th>\n",
       "      <th>transport</th>\n",
       "      <th>buildings</th>\n",
       "      <th>electricity</th>\n",
       "      <th>tools</th>\n",
       "      <th>hospitals</th>\n",
       "      <th>shops</th>\n",
       "      <th>aid_centers</th>\n",
       "      <th>other_infrastructure</th>\n",
       "      <th>weather_related</th>\n",
       "      <th>floods</th>\n",
       "      <th>storm</th>\n",
       "      <th>fire</th>\n",
       "      <th>earthquake</th>\n",
       "      <th>cold</th>\n",
       "      <th>other_weather</th>\n",
       "      <th>direct_report</th>\n",
       "    </tr>\n",
       "  </thead>\n",
       "  <tbody>\n",
       "    <tr>\n",
       "      <th>0</th>\n",
       "      <td>2</td>\n",
       "      <td>Weather update - a cold front from Cuba that c...</td>\n",
       "      <td>Un front froid se retrouve sur Cuba ce matin. ...</td>\n",
       "      <td>direct</td>\n",
       "      <td>1</td>\n",
       "      <td>0</td>\n",
       "      <td>0</td>\n",
       "      <td>0</td>\n",
       "      <td>0</td>\n",
       "      <td>0</td>\n",
       "      <td>0</td>\n",
       "      <td>0</td>\n",
       "      <td>0</td>\n",
       "      <td>0</td>\n",
       "      <td>0</td>\n",
       "      <td>0</td>\n",
       "      <td>0</td>\n",
       "      <td>0</td>\n",
       "      <td>0</td>\n",
       "      <td>0</td>\n",
       "      <td>0</td>\n",
       "      <td>0</td>\n",
       "      <td>0</td>\n",
       "      <td>0</td>\n",
       "      <td>0</td>\n",
       "      <td>0</td>\n",
       "      <td>0</td>\n",
       "      <td>0</td>\n",
       "      <td>0</td>\n",
       "      <td>0</td>\n",
       "      <td>0</td>\n",
       "      <td>0</td>\n",
       "      <td>0</td>\n",
       "      <td>0</td>\n",
       "      <td>0</td>\n",
       "      <td>0</td>\n",
       "      <td>0</td>\n",
       "      <td>0</td>\n",
       "      <td>0</td>\n",
       "      <td>0</td>\n",
       "    </tr>\n",
       "    <tr>\n",
       "      <th>1</th>\n",
       "      <td>7</td>\n",
       "      <td>Is the Hurricane over or is it not over</td>\n",
       "      <td>Cyclone nan fini osinon li pa fini</td>\n",
       "      <td>direct</td>\n",
       "      <td>1</td>\n",
       "      <td>0</td>\n",
       "      <td>0</td>\n",
       "      <td>1</td>\n",
       "      <td>0</td>\n",
       "      <td>0</td>\n",
       "      <td>0</td>\n",
       "      <td>0</td>\n",
       "      <td>0</td>\n",
       "      <td>0</td>\n",
       "      <td>0</td>\n",
       "      <td>0</td>\n",
       "      <td>0</td>\n",
       "      <td>0</td>\n",
       "      <td>0</td>\n",
       "      <td>0</td>\n",
       "      <td>0</td>\n",
       "      <td>0</td>\n",
       "      <td>1</td>\n",
       "      <td>0</td>\n",
       "      <td>0</td>\n",
       "      <td>0</td>\n",
       "      <td>0</td>\n",
       "      <td>0</td>\n",
       "      <td>0</td>\n",
       "      <td>0</td>\n",
       "      <td>0</td>\n",
       "      <td>0</td>\n",
       "      <td>1</td>\n",
       "      <td>0</td>\n",
       "      <td>1</td>\n",
       "      <td>0</td>\n",
       "      <td>0</td>\n",
       "      <td>0</td>\n",
       "      <td>0</td>\n",
       "      <td>0</td>\n",
       "    </tr>\n",
       "  </tbody>\n",
       "</table>\n",
       "</div>"
      ],
      "text/plain": [
       "   id                                            message  \\\n",
       "0   2  Weather update - a cold front from Cuba that c...   \n",
       "1   7            Is the Hurricane over or is it not over   \n",
       "\n",
       "                                            original   genre  related  \\\n",
       "0  Un front froid se retrouve sur Cuba ce matin. ...  direct        1   \n",
       "1                 Cyclone nan fini osinon li pa fini  direct        1   \n",
       "\n",
       "   request  offer  aid_related  medical_help  medical_products  \\\n",
       "0        0      0            0             0                 0   \n",
       "1        0      0            1             0                 0   \n",
       "\n",
       "   search_and_rescue  security  military  child_alone  water  food  shelter  \\\n",
       "0                  0         0         0            0      0     0        0   \n",
       "1                  0         0         0            0      0     0        0   \n",
       "\n",
       "   clothing  money  missing_people  refugees  death  other_aid  \\\n",
       "0         0      0               0         0      0          0   \n",
       "1         0      0               0         0      0          1   \n",
       "\n",
       "   infrastructure_related  transport  buildings  electricity  tools  \\\n",
       "0                       0          0          0            0      0   \n",
       "1                       0          0          0            0      0   \n",
       "\n",
       "   hospitals  shops  aid_centers  other_infrastructure  weather_related  \\\n",
       "0          0      0            0                     0                0   \n",
       "1          0      0            0                     0                1   \n",
       "\n",
       "   floods  storm  fire  earthquake  cold  other_weather  direct_report  \n",
       "0       0      0     0           0     0              0              0  \n",
       "1       0      1     0           0     0              0              0  "
      ]
     },
     "execution_count": 4,
     "metadata": {},
     "output_type": "execute_result"
    }
   ],
   "source": [
    "df.head(2)"
   ]
  },
  {
   "cell_type": "code",
   "execution_count": 5,
   "metadata": {},
   "outputs": [
    {
     "name": "stdout",
     "output_type": "stream",
     "text": [
      "1 columns have unique values all equal to zero\n",
      "Drop 1 columns\n",
      "(26216, 39)\n"
     ]
    }
   ],
   "source": [
    "# Function to check which columns have unique values all equal to zero\n",
    "def check_unique_zero_columns(df):\n",
    "    \"\"\"\n",
    "    Checks for columns in the DataFrame that have unique values all equal to\n",
    "    zero, and drops these columns from the DataFrame if found.\n",
    "\n",
    "    Args:\n",
    "        df (pd.DataFrame): The input DataFrame to check.\n",
    "\n",
    "    Returns:\n",
    "        pd.DataFrame: The DataFrame with zero-value columns dropped, if any were\n",
    "        found.\n",
    "    \"\"\"\n",
    "    zero_columns = []\n",
    "    for column in df.columns:\n",
    "        if df[column].nunique() == 1 and df[column].unique()[0] == 0:\n",
    "            zero_columns.append(column)\n",
    "\n",
    "    if len(zero_columns) > 0:\n",
    "        print(f'{len(zero_columns)} columns have unique values all equal to zero')\n",
    "        df = df.drop(zero_columns, axis=1)\n",
    "        print(f'Drop {len(zero_columns)} columns')\n",
    "\n",
    "    else:\n",
    "        print(f'{len(zero_columns)} columns have unique values all equal to zero')\n",
    "    return df\n",
    "\n",
    "# Get the list of columns with unique values equal to zero\n",
    "df = check_unique_zero_columns(df)\n",
    "print(df.shape)"
   ]
  },
  {
   "cell_type": "code",
   "execution_count": 8,
   "metadata": {},
   "outputs": [
    {
     "name": "stdout",
     "output_type": "stream",
     "text": [
      "Random messages:\n",
      "I am hungry, I don't have food to eat, I don't have house I don't have clothes I count on you thank you so much \n",
      "Wind 16.0 mph NNE. Barometer 982.09 mb, gust 31.0, Temp 56.9 &amp;deg;F. Rain 0.00 in. Humidity 95% hurricane cam http://t.co/Sq2ekENuWind 16.0 mph NNE. Barometer 981.68 mb, gust 26.0, Temp 57.1 &amp;deg;F. Rain 0.00 in. Humidity 95% hurricane cam http://t.co/Sq2ekENu\n",
      "Farmers have seen revenues hit by falling demand, the regional economic crisis, drought and mismanagement.\n",
      "We're looking for more information concerning the earthquake\n",
      "AFP correspondents witnessed poor turnout at polling stations across Bamako throughout the day, while residents contacted by telephone painted a similarly sparse picture in northern Mali.\n"
     ]
    }
   ],
   "source": [
    "def random_messages(df, column, n):\n",
    "    \"\"\"\n",
    "    Selects and prints a specified number of random messages from a given column\n",
    "    in the DataFrame.\n",
    "\n",
    "    Args:\n",
    "        df (pd.DataFrame): The input DataFrame containing the messages. column\n",
    "        (str): The name of the column to select messages from. \n",
    "        n (int): The number of random messages to select and print.\n",
    "\n",
    "    Returns:\n",
    "        None\n",
    "    \"\"\"\n",
    "    random_messages = df[column].sample(n=n)\n",
    "    print(\"Random messages:\")\n",
    "    for message in random_messages:\n",
    "        print(message)\n",
    "\n",
    "random_messages(df, 'message', 5)"
   ]
  },
  {
   "cell_type": "code",
   "execution_count": 9,
   "metadata": {},
   "outputs": [],
   "source": [
    "def replace_urls(message, replacement='urlplaceholder'):\n",
    "    \"\"\"\n",
    "    Replace URLs in a given message with a specified replacement string.\n",
    "\n",
    "    Args:\n",
    "        message (str): The input message containing URLs to be replaced.\n",
    "        replacement (str, optional): The string to replace URLs with. Default is\n",
    "        'urlplaceholder'.\n",
    "\n",
    "    Returns:\n",
    "        str: The message with URLs replaced by the specified replacement string.\n",
    "    \"\"\"\n",
    "    url_pattern = r'(https?://\\S+|www\\.\\S+)'\n",
    "    return re.sub(url_pattern, replacement, message)\n",
    "\n",
    "df['message'] = df['message'].apply(replace_urls)"
   ]
  },
  {
   "cell_type": "code",
   "execution_count": 10,
   "metadata": {},
   "outputs": [
    {
     "name": "stdout",
     "output_type": "stream",
     "text": [
      "X shape (26216,), y shape (26216, 35)\n"
     ]
    }
   ],
   "source": [
    "# Extract X and y variables from the data for the modelling\n",
    "\n",
    "X = df['message']\n",
    "y = df.drop(['id', 'message', 'original', 'genre'], axis = 1)\n",
    "\n",
    "print(f'X shape {X.shape}, y shape {y.shape}')"
   ]
  },
  {
   "cell_type": "markdown",
   "metadata": {},
   "source": [
    "### 2. Write a tokenization function to process your text data"
   ]
  },
  {
   "cell_type": "code",
   "execution_count": 11,
   "metadata": {},
   "outputs": [],
   "source": [
    "def tokenize(text):\n",
    "    # Normalize text\n",
    "    text = re.sub(r\"[^a-zA-Z0-9]\", \" \", text.lower())\n",
    "    \n",
    "    # tokenize text\n",
    "    words = nltk.word_tokenize(text)\n",
    "    \n",
    "    # remove stop words\n",
    "    stopwords_ = nltk.corpus.stopwords.words(\"english\")\n",
    "    words = [word for word in words if word not in stopwords_]\n",
    "    \n",
    "    # extract root form of words\n",
    "    words = [nltk.stem.WordNetLemmatizer().lemmatize(word, pos='v') for word in words]\n",
    "\n",
    "    return words"
   ]
  },
  {
   "cell_type": "markdown",
   "metadata": {},
   "source": [
    "### 3. Build a machine learning pipeline\n",
    "This machine pipeline should take in the `message` column as input and output classification results on the other 36 categories in the dataset. You may find the [MultiOutputClassifier](http://scikit-learn.org/stable/modules/generated/sklearn.multioutput.MultiOutputClassifier.html) helpful for predicting multiple target variables."
   ]
  },
  {
   "cell_type": "code",
   "execution_count": 12,
   "metadata": {},
   "outputs": [],
   "source": [
    "pipeline = Pipeline([\n",
    "    ('vect', CountVectorizer(tokenizer = tokenize)),\n",
    "    ('tfidf', TfidfTransformer()),\n",
    "    ('clf', MultiOutputClassifier(RandomForestClassifier()))\n",
    "])"
   ]
  },
  {
   "cell_type": "markdown",
   "metadata": {},
   "source": [
    "### 4. Train pipeline\n",
    "- Split data into train and test sets\n",
    "- Train pipeline"
   ]
  },
  {
   "cell_type": "code",
   "execution_count": 13,
   "metadata": {},
   "outputs": [
    {
     "name": "stderr",
     "output_type": "stream",
     "text": [
      "/Users/mafda/micromamba/envs/disaster_response/lib/python3.12/site-packages/sklearn/feature_extraction/text.py:525: UserWarning: The parameter 'token_pattern' will not be used since 'tokenizer' is not None'\n",
      "  warnings.warn(\n"
     ]
    }
   ],
   "source": [
    "X_train, X_test, y_train, y_test = train_test_split(X, y)\n",
    "pipeline_fitted = pipeline.fit(X_train, y_train)"
   ]
  },
  {
   "cell_type": "code",
   "execution_count": 16,
   "metadata": {},
   "outputs": [
    {
     "name": "stdout",
     "output_type": "stream",
     "text": [
      "['related' 'request' 'aid_related' 'food' 'shelter' 'clothing'\n",
      " 'direct_report']\n"
     ]
    }
   ],
   "source": [
    "msg = [\"I am hungry, I don't have food to eat, I don't have house I don't have clothes I count on you thank you so much\"]\n",
    "test_output = pipeline.predict(msg)\n",
    "print(y_train.columns.values[(test_output.flatten()==1)])"
   ]
  },
  {
   "cell_type": "markdown",
   "metadata": {},
   "source": [
    "### 5. Test your model\n",
    "Report the f1 score, precision and recall for each output category of the dataset. You can do this by iterating through the columns and calling sklearn's `classification_report` on each."
   ]
  },
  {
   "cell_type": "code",
   "execution_count": 27,
   "metadata": {},
   "outputs": [],
   "source": [
    "def get_eval_metrics(actual, predicted, col_names):\n",
    "    \"\"\"Calculate evaluation metrics for ML model\n",
    "    \n",
    "    Args: actual: array. Array containing actual labels. predicted: array. Array\n",
    "    containing predicted labels. col_names: list of strings. List containing\n",
    "    names for each of the predicted fields.\n",
    "       \n",
    "    Returns: metrics_df: dataframe. Dataframe containing the accuracy,\n",
    "    precision, recall and f1 score for a given set of actual and predicted\n",
    "    labels.\n",
    "    \"\"\"\n",
    "    metrics = []\n",
    "    \n",
    "    # Calculate evaluation metrics for each set of labels\n",
    "    for i in range(len(col_names)):\n",
    "        accuracy = accuracy_score(actual[:, i], predicted[:, i])\n",
    "        precision = precision_score(actual[:, i], predicted[:, i], average='weighted')\n",
    "        recall = recall_score(actual[:, i], predicted[:, i], average='weighted')\n",
    "        f1 = f1_score(actual[:, i], predicted[:, i], average='weighted')\n",
    "        \n",
    "        metrics.append([accuracy, precision, recall, f1])\n",
    "    \n",
    "    # Create dataframe containing metrics\n",
    "    metrics = np.array(metrics)\n",
    "    metrics_df = pd.DataFrame(data = metrics, index = col_names, columns = ['Accuracy', 'Precision', 'Recall', 'F1'])\n",
    "      \n",
    "    return metrics_df    "
   ]
  },
  {
   "cell_type": "code",
   "execution_count": 29,
   "metadata": {},
   "outputs": [],
   "source": [
    "# Calculate evaluation metrics for test set\n",
    "y_pred = pipeline.predict(X_test)\n",
    "col_names = list(y.columns.values)"
   ]
  },
  {
   "cell_type": "code",
   "execution_count": 38,
   "metadata": {},
   "outputs": [
    {
     "name": "stdout",
     "output_type": "stream",
     "text": [
      "                        Accuracy  Precision    Recall        F1\n",
      "related                 0.808361   0.795991  0.808361  0.789256\n",
      "request                 0.898535   0.893629  0.898535  0.887963\n",
      "offer                   0.994812   0.989652  0.994812  0.992225\n",
      "aid_related             0.795392   0.794001  0.795392  0.793920\n",
      "medical_help            0.925236   0.908752  0.925236  0.897476\n",
      "medical_products        0.951938   0.948186  0.951938  0.933377\n",
      "search_and_rescue       0.974519   0.966012  0.974519  0.964357\n",
      "security                0.981996   0.969479  0.981996  0.973671\n",
      "military                0.968416   0.959948  0.968416  0.955793\n",
      "water                   0.956820   0.956204  0.956820  0.948454\n",
      "food                    0.950412   0.947739  0.950412  0.947358\n",
      "shelter                 0.939579   0.935247  0.939579  0.929087\n",
      "clothing                0.986878   0.987051  0.986878  0.981792\n",
      "money                   0.980470   0.973266  0.980470  0.971527\n",
      "missing_people          0.988099   0.976639  0.988099  0.982336\n",
      "refugees                0.966433   0.956544  0.966433  0.950814\n",
      "death                   0.962008   0.956927  0.962008  0.949919\n",
      "other_aid               0.874123   0.841467  0.874123  0.822078\n",
      "infrastructure_related  0.934086   0.873344  0.934086  0.902694\n",
      "transport               0.962008   0.950953  0.962008  0.947979\n",
      "buildings               0.954226   0.949807  0.954226  0.938759\n",
      "electricity             0.981996   0.980100  0.981996  0.974165\n",
      "tools                   0.993134   0.986315  0.993134  0.989713\n",
      "hospitals               0.990540   0.981170  0.990540  0.985833\n",
      "shops                   0.994965   0.989955  0.994965  0.992454\n",
      "aid_centers             0.988099   0.976339  0.988099  0.982184\n",
      "other_infrastructure    0.955447   0.914305  0.955447  0.934424\n",
      "weather_related         0.882209   0.880094  0.882209  0.878513\n",
      "floods                  0.959719   0.956904  0.959719  0.955219\n",
      "storm                   0.939579   0.933907  0.939579  0.934247\n",
      "fire                    0.989472   0.984467  0.989472  0.984532\n",
      "earthquake              0.973909   0.973161  0.973909  0.973191\n",
      "cold                    0.980623   0.976289  0.980623  0.972141\n",
      "other_weather           0.947971   0.928085  0.947971  0.926269\n",
      "direct_report           0.858102   0.853199  0.858102  0.835330\n"
     ]
    }
   ],
   "source": [
    "print(get_eval_metrics(np.array(y_test), y_pred, col_names))"
   ]
  },
  {
   "cell_type": "markdown",
   "metadata": {},
   "source": [
    "### 6. Improve your model\n",
    "Use grid search to find better parameters. "
   ]
  },
  {
   "cell_type": "code",
   "execution_count": null,
   "metadata": {},
   "outputs": [],
   "source": [
    "parameters = \n",
    "\n",
    "cv = "
   ]
  },
  {
   "cell_type": "markdown",
   "metadata": {},
   "source": [
    "### 7. Test your model\n",
    "Show the accuracy, precision, and recall of the tuned model.  \n",
    "\n",
    "Since this project focuses on code quality, process, and  pipelines, there is no minimum performance metric needed to pass. However, make sure to fine tune your models for accuracy, precision and recall to make your project stand out - especially for your portfolio!"
   ]
  },
  {
   "cell_type": "code",
   "execution_count": null,
   "metadata": {},
   "outputs": [],
   "source": []
  },
  {
   "cell_type": "markdown",
   "metadata": {},
   "source": [
    "### 8. Try improving your model further. Here are a few ideas:\n",
    "* try other machine learning algorithms\n",
    "* add other features besides the TF-IDF"
   ]
  },
  {
   "cell_type": "code",
   "execution_count": null,
   "metadata": {},
   "outputs": [],
   "source": []
  },
  {
   "cell_type": "markdown",
   "metadata": {},
   "source": [
    "### 9. Export your model as a pickle file"
   ]
  },
  {
   "cell_type": "code",
   "execution_count": null,
   "metadata": {},
   "outputs": [],
   "source": []
  },
  {
   "cell_type": "markdown",
   "metadata": {},
   "source": [
    "### 10. Use this notebook to complete `train_classifier.py`\n",
    "Use the template file attached in the Resources folder to write a script that runs the steps above to create a database and export a model based on a new dataset specified by the user."
   ]
  },
  {
   "cell_type": "code",
   "execution_count": null,
   "metadata": {},
   "outputs": [],
   "source": []
  }
 ],
 "metadata": {
  "kernelspec": {
   "display_name": "Python 3",
   "language": "python",
   "name": "python3"
  },
  "language_info": {
   "codemirror_mode": {
    "name": "ipython",
    "version": 3
   },
   "file_extension": ".py",
   "mimetype": "text/x-python",
   "name": "python",
   "nbconvert_exporter": "python",
   "pygments_lexer": "ipython3",
   "version": "3.12.4"
  }
 },
 "nbformat": 4,
 "nbformat_minor": 2
}
