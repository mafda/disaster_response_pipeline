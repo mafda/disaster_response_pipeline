{
 "cells": [
  {
   "cell_type": "markdown",
   "metadata": {},
   "source": [
    "# ML Pipeline Preparation\n",
    "Follow the instructions below to help you create your ML pipeline.\n",
    "### 1. Import libraries and load data from database.\n",
    "- Import Python libraries\n",
    "- Load dataset from database with [`read_sql_table`](https://pandas.pydata.org/pandas-docs/stable/generated/pandas.read_sql_table.html)\n",
    "- Define feature and target variables X and Y"
   ]
  },
  {
   "cell_type": "code",
   "execution_count": 1,
   "metadata": {},
   "outputs": [],
   "source": [
    "import pandas as pd\n",
    "pd.set_option('display.max_columns', 500)\n",
    "\n",
    "import os\n",
    "from sqlalchemy import create_engine\n",
    "import re\n",
    "from sklearn.pipeline import Pipeline\n",
    "from sklearn.feature_extraction.text import TfidfTransformer, CountVectorizer\n",
    "from sklearn.ensemble import RandomForestClassifier\n",
    "from sklearn.multioutput import MultiOutputClassifier\n",
    "from sklearn.model_selection import train_test_split\n",
    "\n",
    "from sklearn.metrics import accuracy_score, precision_score, recall_score, f1_score\n",
    "import numpy as np\n",
    "\n",
    "import warnings\n",
    "\n",
    "warnings.simplefilter('ignore')"
   ]
  },
  {
   "cell_type": "code",
   "execution_count": 2,
   "metadata": {},
   "outputs": [
    {
     "name": "stderr",
     "output_type": "stream",
     "text": [
      "[nltk_data] Downloading package punkt to /Users/mafda/nltk_data...\n",
      "[nltk_data]   Package punkt is already up-to-date!\n",
      "[nltk_data] Downloading package wordnet to /Users/mafda/nltk_data...\n",
      "[nltk_data]   Package wordnet is already up-to-date!\n",
      "[nltk_data] Downloading package averaged_perceptron_tagger to\n",
      "[nltk_data]     /Users/mafda/nltk_data...\n",
      "[nltk_data]   Package averaged_perceptron_tagger is already up-to-\n",
      "[nltk_data]       date!\n"
     ]
    },
    {
     "data": {
      "text/plain": [
       "True"
      ]
     },
     "execution_count": 2,
     "metadata": {},
     "output_type": "execute_result"
    }
   ],
   "source": [
    "# import libraries\n",
    "import nltk\n",
    "nltk.download('punkt')\n",
    "nltk.download('wordnet')\n",
    "nltk.download('averaged_perceptron_tagger')"
   ]
  },
  {
   "cell_type": "code",
   "execution_count": 3,
   "metadata": {},
   "outputs": [
    {
     "data": {
      "text/plain": [
       "(26216, 39)"
      ]
     },
     "execution_count": 3,
     "metadata": {},
     "output_type": "execute_result"
    }
   ],
   "source": [
    "# load data from database\n",
    "database_filepath = \"../data/DisasterResponse.db\"\n",
    "engine = create_engine('sqlite:///' + database_filepath)\n",
    "table_name = os.path.basename(database_filepath).replace(\".db\",\"\") + \"_table\"\n",
    "df = pd.read_sql_table(table_name, engine)\n",
    "df.shape"
   ]
  },
  {
   "cell_type": "code",
   "execution_count": 4,
   "metadata": {},
   "outputs": [
    {
     "data": {
      "text/html": [
       "<div>\n",
       "<style scoped>\n",
       "    .dataframe tbody tr th:only-of-type {\n",
       "        vertical-align: middle;\n",
       "    }\n",
       "\n",
       "    .dataframe tbody tr th {\n",
       "        vertical-align: top;\n",
       "    }\n",
       "\n",
       "    .dataframe thead th {\n",
       "        text-align: right;\n",
       "    }\n",
       "</style>\n",
       "<table border=\"1\" class=\"dataframe\">\n",
       "  <thead>\n",
       "    <tr style=\"text-align: right;\">\n",
       "      <th></th>\n",
       "      <th>id</th>\n",
       "      <th>message</th>\n",
       "      <th>original</th>\n",
       "      <th>genre</th>\n",
       "      <th>related</th>\n",
       "      <th>request</th>\n",
       "      <th>offer</th>\n",
       "      <th>aid_related</th>\n",
       "      <th>medical_help</th>\n",
       "      <th>medical_products</th>\n",
       "      <th>search_and_rescue</th>\n",
       "      <th>security</th>\n",
       "      <th>military</th>\n",
       "      <th>water</th>\n",
       "      <th>food</th>\n",
       "      <th>shelter</th>\n",
       "      <th>clothing</th>\n",
       "      <th>money</th>\n",
       "      <th>missing_people</th>\n",
       "      <th>refugees</th>\n",
       "      <th>death</th>\n",
       "      <th>other_aid</th>\n",
       "      <th>infrastructure_related</th>\n",
       "      <th>transport</th>\n",
       "      <th>buildings</th>\n",
       "      <th>electricity</th>\n",
       "      <th>tools</th>\n",
       "      <th>hospitals</th>\n",
       "      <th>shops</th>\n",
       "      <th>aid_centers</th>\n",
       "      <th>other_infrastructure</th>\n",
       "      <th>weather_related</th>\n",
       "      <th>floods</th>\n",
       "      <th>storm</th>\n",
       "      <th>fire</th>\n",
       "      <th>earthquake</th>\n",
       "      <th>cold</th>\n",
       "      <th>other_weather</th>\n",
       "      <th>direct_report</th>\n",
       "    </tr>\n",
       "  </thead>\n",
       "  <tbody>\n",
       "    <tr>\n",
       "      <th>0</th>\n",
       "      <td>2</td>\n",
       "      <td>Weather update - a cold front from Cuba that c...</td>\n",
       "      <td>Un front froid se retrouve sur Cuba ce matin. ...</td>\n",
       "      <td>direct</td>\n",
       "      <td>1</td>\n",
       "      <td>0</td>\n",
       "      <td>0</td>\n",
       "      <td>0</td>\n",
       "      <td>0</td>\n",
       "      <td>0</td>\n",
       "      <td>0</td>\n",
       "      <td>0</td>\n",
       "      <td>0</td>\n",
       "      <td>0</td>\n",
       "      <td>0</td>\n",
       "      <td>0</td>\n",
       "      <td>0</td>\n",
       "      <td>0</td>\n",
       "      <td>0</td>\n",
       "      <td>0</td>\n",
       "      <td>0</td>\n",
       "      <td>0</td>\n",
       "      <td>0</td>\n",
       "      <td>0</td>\n",
       "      <td>0</td>\n",
       "      <td>0</td>\n",
       "      <td>0</td>\n",
       "      <td>0</td>\n",
       "      <td>0</td>\n",
       "      <td>0</td>\n",
       "      <td>0</td>\n",
       "      <td>0</td>\n",
       "      <td>0</td>\n",
       "      <td>0</td>\n",
       "      <td>0</td>\n",
       "      <td>0</td>\n",
       "      <td>0</td>\n",
       "      <td>0</td>\n",
       "      <td>0</td>\n",
       "    </tr>\n",
       "    <tr>\n",
       "      <th>1</th>\n",
       "      <td>7</td>\n",
       "      <td>Is the Hurricane over or is it not over</td>\n",
       "      <td>Cyclone nan fini osinon li pa fini</td>\n",
       "      <td>direct</td>\n",
       "      <td>1</td>\n",
       "      <td>0</td>\n",
       "      <td>0</td>\n",
       "      <td>1</td>\n",
       "      <td>0</td>\n",
       "      <td>0</td>\n",
       "      <td>0</td>\n",
       "      <td>0</td>\n",
       "      <td>0</td>\n",
       "      <td>0</td>\n",
       "      <td>0</td>\n",
       "      <td>0</td>\n",
       "      <td>0</td>\n",
       "      <td>0</td>\n",
       "      <td>0</td>\n",
       "      <td>0</td>\n",
       "      <td>0</td>\n",
       "      <td>1</td>\n",
       "      <td>0</td>\n",
       "      <td>0</td>\n",
       "      <td>0</td>\n",
       "      <td>0</td>\n",
       "      <td>0</td>\n",
       "      <td>0</td>\n",
       "      <td>0</td>\n",
       "      <td>0</td>\n",
       "      <td>0</td>\n",
       "      <td>1</td>\n",
       "      <td>0</td>\n",
       "      <td>1</td>\n",
       "      <td>0</td>\n",
       "      <td>0</td>\n",
       "      <td>0</td>\n",
       "      <td>0</td>\n",
       "      <td>0</td>\n",
       "    </tr>\n",
       "  </tbody>\n",
       "</table>\n",
       "</div>"
      ],
      "text/plain": [
       "   id                                            message  \\\n",
       "0   2  Weather update - a cold front from Cuba that c...   \n",
       "1   7            Is the Hurricane over or is it not over   \n",
       "\n",
       "                                            original   genre  related  \\\n",
       "0  Un front froid se retrouve sur Cuba ce matin. ...  direct        1   \n",
       "1                 Cyclone nan fini osinon li pa fini  direct        1   \n",
       "\n",
       "   request  offer  aid_related  medical_help  medical_products  \\\n",
       "0        0      0            0             0                 0   \n",
       "1        0      0            1             0                 0   \n",
       "\n",
       "   search_and_rescue  security  military  water  food  shelter  clothing  \\\n",
       "0                  0         0         0      0     0        0         0   \n",
       "1                  0         0         0      0     0        0         0   \n",
       "\n",
       "   money  missing_people  refugees  death  other_aid  infrastructure_related  \\\n",
       "0      0               0         0      0          0                       0   \n",
       "1      0               0         0      0          1                       0   \n",
       "\n",
       "   transport  buildings  electricity  tools  hospitals  shops  aid_centers  \\\n",
       "0          0          0            0      0          0      0            0   \n",
       "1          0          0            0      0          0      0            0   \n",
       "\n",
       "   other_infrastructure  weather_related  floods  storm  fire  earthquake  \\\n",
       "0                     0                0       0      0     0           0   \n",
       "1                     0                1       0      1     0           0   \n",
       "\n",
       "   cold  other_weather  direct_report  \n",
       "0     0              0              0  \n",
       "1     0              0              0  "
      ]
     },
     "execution_count": 4,
     "metadata": {},
     "output_type": "execute_result"
    }
   ],
   "source": [
    "df.head(2)"
   ]
  },
  {
   "cell_type": "code",
   "execution_count": 5,
   "metadata": {},
   "outputs": [
    {
     "name": "stdout",
     "output_type": "stream",
     "text": [
      "X shape (26216,), y shape (26216, 35)\n"
     ]
    }
   ],
   "source": [
    "# Extract X and y variables from the data for the modelling\n",
    "X = df['message']\n",
    "y = df.drop(['id', 'message', 'original', 'genre'], axis = 1)\n",
    "\n",
    "print(f'X shape {X.shape}, y shape {y.shape}')"
   ]
  },
  {
   "cell_type": "markdown",
   "metadata": {},
   "source": [
    "### 2. Write a tokenization function to process your text data"
   ]
  },
  {
   "cell_type": "code",
   "execution_count": 6,
   "metadata": {},
   "outputs": [],
   "source": [
    "def tokenize(text):\n",
    "    # Normalize text\n",
    "    text = re.sub(r\"[^a-zA-Z0-9]\", \" \", text.lower())\n",
    "    \n",
    "    # tokenize text\n",
    "    words = nltk.word_tokenize(text)\n",
    "    \n",
    "    # remove stop words\n",
    "    stopwords_ = nltk.corpus.stopwords.words(\"english\")\n",
    "    words = [word for word in words if word not in stopwords_]\n",
    "    \n",
    "    # extract root form of words\n",
    "    words = [nltk.stem.WordNetLemmatizer().lemmatize(word, pos='v') for word in words]\n",
    "\n",
    "    return words"
   ]
  },
  {
   "cell_type": "markdown",
   "metadata": {},
   "source": [
    "### 3. Build a machine learning pipeline\n",
    "This machine pipeline should take in the `message` column as input and output classification results on the other 36 categories in the dataset. You may find the [MultiOutputClassifier](http://scikit-learn.org/stable/modules/generated/sklearn.multioutput.MultiOutputClassifier.html) helpful for predicting multiple target variables."
   ]
  },
  {
   "cell_type": "code",
   "execution_count": 7,
   "metadata": {},
   "outputs": [],
   "source": [
    "pipeline = Pipeline([\n",
    "    ('vect', CountVectorizer(tokenizer = tokenize)),\n",
    "    ('tfidf', TfidfTransformer()),\n",
    "    ('clf', MultiOutputClassifier(RandomForestClassifier()))\n",
    "])"
   ]
  },
  {
   "cell_type": "markdown",
   "metadata": {},
   "source": [
    "### 4. Train pipeline\n",
    "- Split data into train and test sets\n",
    "- Train pipeline"
   ]
  },
  {
   "cell_type": "code",
   "execution_count": 8,
   "metadata": {},
   "outputs": [],
   "source": [
    "X_train, X_test, y_train, y_test = train_test_split(X, y)\n",
    "pipeline_fitted = pipeline.fit(X_train, y_train)"
   ]
  },
  {
   "cell_type": "code",
   "execution_count": 9,
   "metadata": {},
   "outputs": [
    {
     "name": "stdout",
     "output_type": "stream",
     "text": [
      "['related' 'request' 'aid_related' 'food' 'direct_report']\n"
     ]
    }
   ],
   "source": [
    "random_message = [\"I am hungry, I don't have food to eat, I don't have house I don't have clothes I count on you thank you so much\"]\n",
    "test_output = pipeline.predict(random_message)\n",
    "print(y_train.columns.values[(test_output.flatten()==1)])"
   ]
  },
  {
   "cell_type": "markdown",
   "metadata": {},
   "source": [
    "### 5. Test your model\n",
    "Report the f1 score, precision and recall for each output category of the dataset. You can do this by iterating through the columns and calling sklearn's `classification_report` on each."
   ]
  },
  {
   "cell_type": "code",
   "execution_count": 10,
   "metadata": {},
   "outputs": [],
   "source": [
    "def get_evaluate_multioutput(actual, predicted, col_names):\n",
    "    \"\"\"Calculate evaluation metrics for ML model\n",
    "    \n",
    "    Args: actual: array. Array containing actual labels. predicted: array. Array\n",
    "    containing predicted labels. col_names: list of strings. List containing\n",
    "    names for each of the predicted fields.\n",
    "       \n",
    "    Returns: metrics_df: dataframe. Dataframe containing the accuracy,\n",
    "    precision, recall and f1 score for a given set of actual and predicted\n",
    "    labels.\n",
    "    \"\"\"\n",
    "    metrics = []\n",
    "    \n",
    "    # Calculate evaluation metrics for each set of labels\n",
    "    for i in range(len(col_names)):\n",
    "        accuracy = accuracy_score(actual[:, i], predicted[:, i])\n",
    "        precision = precision_score(actual[:, i], predicted[:, i], average='weighted')\n",
    "        recall = recall_score(actual[:, i], predicted[:, i], average='weighted')\n",
    "        f1 = f1_score(actual[:, i], predicted[:, i], average='weighted')\n",
    "        \n",
    "        metrics.append([accuracy, precision, recall, f1])\n",
    "    \n",
    "    # Create dataframe containing metrics\n",
    "    metrics = np.array(metrics)\n",
    "    metrics_df = pd.DataFrame(data = metrics, index = col_names, columns = ['Accuracy', 'Precision', 'Recall', 'F1'])\n",
    "      \n",
    "    return metrics_df    "
   ]
  },
  {
   "cell_type": "code",
   "execution_count": 11,
   "metadata": {},
   "outputs": [],
   "source": [
    "# Calculate evaluation metrics for test set\n",
    "y_pred = pipeline.predict(X_test)\n",
    "col_names = list(y.columns.values)"
   ]
  },
  {
   "cell_type": "code",
   "execution_count": 12,
   "metadata": {},
   "outputs": [
    {
     "name": "stdout",
     "output_type": "stream",
     "text": [
      "                        Accuracy  Precision    Recall        F1\n",
      "related                 0.818126   0.804447  0.818126  0.801469\n",
      "request                 0.895484   0.891561  0.895484  0.883636\n",
      "offer                   0.995117   0.990259  0.995117  0.992682\n",
      "aid_related             0.775404   0.774046  0.775404  0.774372\n",
      "medical_help            0.920201   0.898596  0.920201  0.890287\n",
      "medical_products        0.956057   0.948991  0.956057  0.938823\n",
      "search_and_rescue       0.973299   0.970262  0.973299  0.962003\n",
      "security                0.980928   0.963703  0.980928  0.972239\n",
      "military                0.967653   0.960519  0.967653  0.954295\n",
      "water                   0.957125   0.954925  0.957125  0.948203\n",
      "food                    0.940494   0.936484  0.940494  0.935066\n",
      "shelter                 0.936070   0.929631  0.936070  0.923925\n",
      "clothing                0.985658   0.984297  0.985658  0.979711\n",
      "money                   0.976961   0.977492  0.976961  0.966553\n",
      "missing_people          0.988709   0.981706  0.988709  0.983540\n",
      "refugees                0.963839   0.935624  0.963839  0.947134\n",
      "death                   0.959567   0.953244  0.959567  0.945429\n",
      "other_aid               0.873360   0.847142  0.873360  0.820849\n",
      "infrastructure_related  0.933476   0.893900  0.933476  0.901803\n",
      "transport               0.955294   0.941447  0.955294  0.938743\n",
      "buildings               0.953158   0.945309  0.953158  0.937377\n",
      "electricity             0.981080   0.981439  0.981080  0.972546\n",
      "tools                   0.993897   0.988436  0.993897  0.991159\n",
      "hospitals               0.988862   0.977848  0.988862  0.983324\n",
      "shops                   0.995880   0.991778  0.995880  0.993825\n",
      "aid_centers             0.986421   0.973025  0.986421  0.979677\n",
      "other_infrastructure    0.955600   0.924898  0.955600  0.934499\n",
      "weather_related         0.882667   0.880435  0.882667  0.878908\n",
      "floods                  0.955142   0.952398  0.955142  0.948808\n",
      "storm                   0.945835   0.941161  0.945835  0.940598\n",
      "fire                    0.990845   0.990929  0.990845  0.986437\n",
      "earthquake              0.974062   0.973312  0.974062  0.973435\n",
      "cold                    0.979402   0.974878  0.979402  0.970821\n",
      "other_weather           0.946750   0.920519  0.946750  0.925062\n",
      "direct_report           0.858102   0.851923  0.858102  0.835256\n"
     ]
    }
   ],
   "source": [
    "print(get_evaluate_multioutput(np.array(y_test), y_pred, col_names))"
   ]
  },
  {
   "cell_type": "markdown",
   "metadata": {},
   "source": [
    "### 6. Improve your model\n",
    "Use grid search to find better parameters. "
   ]
  },
  {
   "cell_type": "code",
   "execution_count": 13,
   "metadata": {},
   "outputs": [],
   "source": [
    "from sklearn.model_selection import GridSearchCV"
   ]
  },
  {
   "cell_type": "code",
   "execution_count": 14,
   "metadata": {},
   "outputs": [
    {
     "name": "stdout",
     "output_type": "stream",
     "text": [
      "Fitting 5 folds for each of 6 candidates, totalling 30 fits\n",
      "[CV 1/5; 1/6] START clf__estimator__min_samples_split=2, vect__min_df=1.........\n",
      "[CV 1/5; 1/6] END clf__estimator__min_samples_split=2, vect__min_df=1;, score=nan total time= 2.8min\n",
      "[CV 2/5; 1/6] START clf__estimator__min_samples_split=2, vect__min_df=1.........\n",
      "[CV 2/5; 1/6] END clf__estimator__min_samples_split=2, vect__min_df=1;, score=nan total time= 2.9min\n",
      "[CV 3/5; 1/6] START clf__estimator__min_samples_split=2, vect__min_df=1.........\n",
      "[CV 3/5; 1/6] END clf__estimator__min_samples_split=2, vect__min_df=1;, score=nan total time= 2.9min\n",
      "[CV 4/5; 1/6] START clf__estimator__min_samples_split=2, vect__min_df=1.........\n",
      "[CV 4/5; 1/6] END clf__estimator__min_samples_split=2, vect__min_df=1;, score=nan total time= 2.9min\n",
      "[CV 5/5; 1/6] START clf__estimator__min_samples_split=2, vect__min_df=1.........\n",
      "[CV 5/5; 1/6] END clf__estimator__min_samples_split=2, vect__min_df=1;, score=nan total time= 2.9min\n",
      "[CV 1/5; 2/6] START clf__estimator__min_samples_split=2, vect__min_df=5.........\n",
      "[CV 1/5; 2/6] END clf__estimator__min_samples_split=2, vect__min_df=5;, score=nan total time= 2.2min\n",
      "[CV 2/5; 2/6] START clf__estimator__min_samples_split=2, vect__min_df=5.........\n",
      "[CV 2/5; 2/6] END clf__estimator__min_samples_split=2, vect__min_df=5;, score=nan total time= 2.2min\n",
      "[CV 3/5; 2/6] START clf__estimator__min_samples_split=2, vect__min_df=5.........\n",
      "[CV 3/5; 2/6] END clf__estimator__min_samples_split=2, vect__min_df=5;, score=nan total time= 2.2min\n",
      "[CV 4/5; 2/6] START clf__estimator__min_samples_split=2, vect__min_df=5.........\n",
      "[CV 4/5; 2/6] END clf__estimator__min_samples_split=2, vect__min_df=5;, score=nan total time= 2.2min\n",
      "[CV 5/5; 2/6] START clf__estimator__min_samples_split=2, vect__min_df=5.........\n",
      "[CV 5/5; 2/6] END clf__estimator__min_samples_split=2, vect__min_df=5;, score=nan total time= 2.2min\n",
      "[CV 1/5; 3/6] START clf__estimator__min_samples_split=5, vect__min_df=1.........\n",
      "[CV 1/5; 3/6] END clf__estimator__min_samples_split=5, vect__min_df=1;, score=nan total time= 2.3min\n",
      "[CV 2/5; 3/6] START clf__estimator__min_samples_split=5, vect__min_df=1.........\n",
      "[CV 2/5; 3/6] END clf__estimator__min_samples_split=5, vect__min_df=1;, score=nan total time= 2.3min\n",
      "[CV 3/5; 3/6] START clf__estimator__min_samples_split=5, vect__min_df=1.........\n",
      "[CV 3/5; 3/6] END clf__estimator__min_samples_split=5, vect__min_df=1;, score=nan total time= 2.3min\n",
      "[CV 4/5; 3/6] START clf__estimator__min_samples_split=5, vect__min_df=1.........\n",
      "[CV 4/5; 3/6] END clf__estimator__min_samples_split=5, vect__min_df=1;, score=nan total time= 2.3min\n",
      "[CV 5/5; 3/6] START clf__estimator__min_samples_split=5, vect__min_df=1.........\n",
      "[CV 5/5; 3/6] END clf__estimator__min_samples_split=5, vect__min_df=1;, score=nan total time= 2.3min\n",
      "[CV 1/5; 4/6] START clf__estimator__min_samples_split=5, vect__min_df=5.........\n",
      "[CV 1/5; 4/6] END clf__estimator__min_samples_split=5, vect__min_df=5;, score=nan total time= 1.9min\n",
      "[CV 2/5; 4/6] START clf__estimator__min_samples_split=5, vect__min_df=5.........\n",
      "[CV 2/5; 4/6] END clf__estimator__min_samples_split=5, vect__min_df=5;, score=nan total time= 1.9min\n",
      "[CV 3/5; 4/6] START clf__estimator__min_samples_split=5, vect__min_df=5.........\n",
      "[CV 3/5; 4/6] END clf__estimator__min_samples_split=5, vect__min_df=5;, score=nan total time= 1.9min\n",
      "[CV 4/5; 4/6] START clf__estimator__min_samples_split=5, vect__min_df=5.........\n",
      "[CV 4/5; 4/6] END clf__estimator__min_samples_split=5, vect__min_df=5;, score=nan total time= 1.9min\n",
      "[CV 5/5; 4/6] START clf__estimator__min_samples_split=5, vect__min_df=5.........\n",
      "[CV 5/5; 4/6] END clf__estimator__min_samples_split=5, vect__min_df=5;, score=nan total time= 1.9min\n",
      "[CV 1/5; 5/6] START clf__estimator__min_samples_split=10, vect__min_df=1........\n",
      "[CV 1/5; 5/6] END clf__estimator__min_samples_split=10, vect__min_df=1;, score=nan total time= 2.0min\n",
      "[CV 2/5; 5/6] START clf__estimator__min_samples_split=10, vect__min_df=1........\n",
      "[CV 2/5; 5/6] END clf__estimator__min_samples_split=10, vect__min_df=1;, score=nan total time= 2.0min\n",
      "[CV 3/5; 5/6] START clf__estimator__min_samples_split=10, vect__min_df=1........\n",
      "[CV 3/5; 5/6] END clf__estimator__min_samples_split=10, vect__min_df=1;, score=nan total time= 2.0min\n",
      "[CV 4/5; 5/6] START clf__estimator__min_samples_split=10, vect__min_df=1........\n",
      "[CV 4/5; 5/6] END clf__estimator__min_samples_split=10, vect__min_df=1;, score=nan total time= 2.0min\n",
      "[CV 5/5; 5/6] START clf__estimator__min_samples_split=10, vect__min_df=1........\n",
      "[CV 5/5; 5/6] END clf__estimator__min_samples_split=10, vect__min_df=1;, score=nan total time= 2.0min\n",
      "[CV 1/5; 6/6] START clf__estimator__min_samples_split=10, vect__min_df=5........\n",
      "[CV 1/5; 6/6] END clf__estimator__min_samples_split=10, vect__min_df=5;, score=nan total time= 1.8min\n",
      "[CV 2/5; 6/6] START clf__estimator__min_samples_split=10, vect__min_df=5........\n",
      "[CV 2/5; 6/6] END clf__estimator__min_samples_split=10, vect__min_df=5;, score=nan total time= 1.8min\n",
      "[CV 3/5; 6/6] START clf__estimator__min_samples_split=10, vect__min_df=5........\n",
      "[CV 3/5; 6/6] END clf__estimator__min_samples_split=10, vect__min_df=5;, score=nan total time= 1.8min\n",
      "[CV 4/5; 6/6] START clf__estimator__min_samples_split=10, vect__min_df=5........\n",
      "[CV 4/5; 6/6] END clf__estimator__min_samples_split=10, vect__min_df=5;, score=nan total time= 1.8min\n",
      "[CV 5/5; 6/6] START clf__estimator__min_samples_split=10, vect__min_df=5........\n",
      "[CV 5/5; 6/6] END clf__estimator__min_samples_split=10, vect__min_df=5;, score=nan total time= 1.8min\n"
     ]
    },
    {
     "data": {
      "text/html": [
       "<style>#sk-container-id-1 {color: black;}#sk-container-id-1 pre{padding: 0;}#sk-container-id-1 div.sk-toggleable {background-color: white;}#sk-container-id-1 label.sk-toggleable__label {cursor: pointer;display: block;width: 100%;margin-bottom: 0;padding: 0.3em;box-sizing: border-box;text-align: center;}#sk-container-id-1 label.sk-toggleable__label-arrow:before {content: \"▸\";float: left;margin-right: 0.25em;color: #696969;}#sk-container-id-1 label.sk-toggleable__label-arrow:hover:before {color: black;}#sk-container-id-1 div.sk-estimator:hover label.sk-toggleable__label-arrow:before {color: black;}#sk-container-id-1 div.sk-toggleable__content {max-height: 0;max-width: 0;overflow: hidden;text-align: left;background-color: #f0f8ff;}#sk-container-id-1 div.sk-toggleable__content pre {margin: 0.2em;color: black;border-radius: 0.25em;background-color: #f0f8ff;}#sk-container-id-1 input.sk-toggleable__control:checked~div.sk-toggleable__content {max-height: 200px;max-width: 100%;overflow: auto;}#sk-container-id-1 input.sk-toggleable__control:checked~label.sk-toggleable__label-arrow:before {content: \"▾\";}#sk-container-id-1 div.sk-estimator input.sk-toggleable__control:checked~label.sk-toggleable__label {background-color: #d4ebff;}#sk-container-id-1 div.sk-label input.sk-toggleable__control:checked~label.sk-toggleable__label {background-color: #d4ebff;}#sk-container-id-1 input.sk-hidden--visually {border: 0;clip: rect(1px 1px 1px 1px);clip: rect(1px, 1px, 1px, 1px);height: 1px;margin: -1px;overflow: hidden;padding: 0;position: absolute;width: 1px;}#sk-container-id-1 div.sk-estimator {font-family: monospace;background-color: #f0f8ff;border: 1px dotted black;border-radius: 0.25em;box-sizing: border-box;margin-bottom: 0.5em;}#sk-container-id-1 div.sk-estimator:hover {background-color: #d4ebff;}#sk-container-id-1 div.sk-parallel-item::after {content: \"\";width: 100%;border-bottom: 1px solid gray;flex-grow: 1;}#sk-container-id-1 div.sk-label:hover label.sk-toggleable__label {background-color: #d4ebff;}#sk-container-id-1 div.sk-serial::before {content: \"\";position: absolute;border-left: 1px solid gray;box-sizing: border-box;top: 0;bottom: 0;left: 50%;z-index: 0;}#sk-container-id-1 div.sk-serial {display: flex;flex-direction: column;align-items: center;background-color: white;padding-right: 0.2em;padding-left: 0.2em;position: relative;}#sk-container-id-1 div.sk-item {position: relative;z-index: 1;}#sk-container-id-1 div.sk-parallel {display: flex;align-items: stretch;justify-content: center;background-color: white;position: relative;}#sk-container-id-1 div.sk-item::before, #sk-container-id-1 div.sk-parallel-item::before {content: \"\";position: absolute;border-left: 1px solid gray;box-sizing: border-box;top: 0;bottom: 0;left: 50%;z-index: -1;}#sk-container-id-1 div.sk-parallel-item {display: flex;flex-direction: column;z-index: 1;position: relative;background-color: white;}#sk-container-id-1 div.sk-parallel-item:first-child::after {align-self: flex-end;width: 50%;}#sk-container-id-1 div.sk-parallel-item:last-child::after {align-self: flex-start;width: 50%;}#sk-container-id-1 div.sk-parallel-item:only-child::after {width: 0;}#sk-container-id-1 div.sk-dashed-wrapped {border: 1px dashed gray;margin: 0 0.4em 0.5em 0.4em;box-sizing: border-box;padding-bottom: 0.4em;background-color: white;}#sk-container-id-1 div.sk-label label {font-family: monospace;font-weight: bold;display: inline-block;line-height: 1.2em;}#sk-container-id-1 div.sk-label-container {text-align: center;}#sk-container-id-1 div.sk-container {/* jupyter's `normalize.less` sets `[hidden] { display: none; }` but bootstrap.min.css set `[hidden] { display: none !important; }` so we also need the `!important` here to be able to override the default hidden behavior on the sphinx rendered scikit-learn.org. See: https://github.com/scikit-learn/scikit-learn/issues/21755 */display: inline-block !important;position: relative;}#sk-container-id-1 div.sk-text-repr-fallback {display: none;}</style><div id=\"sk-container-id-1\" class=\"sk-top-container\"><div class=\"sk-text-repr-fallback\"><pre>GridSearchCV(estimator=Pipeline(steps=[(&#x27;vect&#x27;,\n",
       "                                        CountVectorizer(tokenizer=&lt;function tokenize at 0x15c135f80&gt;)),\n",
       "                                       (&#x27;tfidf&#x27;, TfidfTransformer()),\n",
       "                                       (&#x27;clf&#x27;,\n",
       "                                        MultiOutputClassifier(estimator=RandomForestClassifier()))]),\n",
       "             param_grid={&#x27;clf__estimator__min_samples_split&#x27;: [2, 5, 10],\n",
       "                         &#x27;vect__min_df&#x27;: [1, 5]},\n",
       "             scoring=&#x27;f1_micro&#x27;, verbose=10)</pre><b>In a Jupyter environment, please rerun this cell to show the HTML representation or trust the notebook. <br />On GitHub, the HTML representation is unable to render, please try loading this page with nbviewer.org.</b></div><div class=\"sk-container\" hidden><div class=\"sk-item sk-dashed-wrapped\"><div class=\"sk-label-container\"><div class=\"sk-label sk-toggleable\"><input class=\"sk-toggleable__control sk-hidden--visually\" id=\"sk-estimator-id-1\" type=\"checkbox\" ><label for=\"sk-estimator-id-1\" class=\"sk-toggleable__label sk-toggleable__label-arrow\">GridSearchCV</label><div class=\"sk-toggleable__content\"><pre>GridSearchCV(estimator=Pipeline(steps=[(&#x27;vect&#x27;,\n",
       "                                        CountVectorizer(tokenizer=&lt;function tokenize at 0x15c135f80&gt;)),\n",
       "                                       (&#x27;tfidf&#x27;, TfidfTransformer()),\n",
       "                                       (&#x27;clf&#x27;,\n",
       "                                        MultiOutputClassifier(estimator=RandomForestClassifier()))]),\n",
       "             param_grid={&#x27;clf__estimator__min_samples_split&#x27;: [2, 5, 10],\n",
       "                         &#x27;vect__min_df&#x27;: [1, 5]},\n",
       "             scoring=&#x27;f1_micro&#x27;, verbose=10)</pre></div></div></div><div class=\"sk-parallel\"><div class=\"sk-parallel-item\"><div class=\"sk-item\"><div class=\"sk-label-container\"><div class=\"sk-label sk-toggleable\"><input class=\"sk-toggleable__control sk-hidden--visually\" id=\"sk-estimator-id-2\" type=\"checkbox\" ><label for=\"sk-estimator-id-2\" class=\"sk-toggleable__label sk-toggleable__label-arrow\">estimator: Pipeline</label><div class=\"sk-toggleable__content\"><pre>Pipeline(steps=[(&#x27;vect&#x27;,\n",
       "                 CountVectorizer(tokenizer=&lt;function tokenize at 0x15c135f80&gt;)),\n",
       "                (&#x27;tfidf&#x27;, TfidfTransformer()),\n",
       "                (&#x27;clf&#x27;,\n",
       "                 MultiOutputClassifier(estimator=RandomForestClassifier()))])</pre></div></div></div><div class=\"sk-serial\"><div class=\"sk-item\"><div class=\"sk-serial\"><div class=\"sk-item\"><div class=\"sk-estimator sk-toggleable\"><input class=\"sk-toggleable__control sk-hidden--visually\" id=\"sk-estimator-id-3\" type=\"checkbox\" ><label for=\"sk-estimator-id-3\" class=\"sk-toggleable__label sk-toggleable__label-arrow\">CountVectorizer</label><div class=\"sk-toggleable__content\"><pre>CountVectorizer(tokenizer=&lt;function tokenize at 0x15c135f80&gt;)</pre></div></div></div><div class=\"sk-item\"><div class=\"sk-estimator sk-toggleable\"><input class=\"sk-toggleable__control sk-hidden--visually\" id=\"sk-estimator-id-4\" type=\"checkbox\" ><label for=\"sk-estimator-id-4\" class=\"sk-toggleable__label sk-toggleable__label-arrow\">TfidfTransformer</label><div class=\"sk-toggleable__content\"><pre>TfidfTransformer()</pre></div></div></div><div class=\"sk-item sk-dashed-wrapped\"><div class=\"sk-label-container\"><div class=\"sk-label sk-toggleable\"><input class=\"sk-toggleable__control sk-hidden--visually\" id=\"sk-estimator-id-5\" type=\"checkbox\" ><label for=\"sk-estimator-id-5\" class=\"sk-toggleable__label sk-toggleable__label-arrow\">clf: MultiOutputClassifier</label><div class=\"sk-toggleable__content\"><pre>MultiOutputClassifier(estimator=RandomForestClassifier())</pre></div></div></div><div class=\"sk-parallel\"><div class=\"sk-parallel-item\"><div class=\"sk-item\"><div class=\"sk-label-container\"><div class=\"sk-label sk-toggleable\"><input class=\"sk-toggleable__control sk-hidden--visually\" id=\"sk-estimator-id-6\" type=\"checkbox\" ><label for=\"sk-estimator-id-6\" class=\"sk-toggleable__label sk-toggleable__label-arrow\">estimator: RandomForestClassifier</label><div class=\"sk-toggleable__content\"><pre>RandomForestClassifier()</pre></div></div></div><div class=\"sk-serial\"><div class=\"sk-item\"><div class=\"sk-estimator sk-toggleable\"><input class=\"sk-toggleable__control sk-hidden--visually\" id=\"sk-estimator-id-7\" type=\"checkbox\" ><label for=\"sk-estimator-id-7\" class=\"sk-toggleable__label sk-toggleable__label-arrow\">RandomForestClassifier</label><div class=\"sk-toggleable__content\"><pre>RandomForestClassifier()</pre></div></div></div></div></div></div></div></div></div></div></div></div></div></div></div></div></div>"
      ],
      "text/plain": [
       "GridSearchCV(estimator=Pipeline(steps=[('vect',\n",
       "                                        CountVectorizer(tokenizer=<function tokenize at 0x15c135f80>)),\n",
       "                                       ('tfidf', TfidfTransformer()),\n",
       "                                       ('clf',\n",
       "                                        MultiOutputClassifier(estimator=RandomForestClassifier()))]),\n",
       "             param_grid={'clf__estimator__min_samples_split': [2, 5, 10],\n",
       "                         'vect__min_df': [1, 5]},\n",
       "             scoring='f1_micro', verbose=10)"
      ]
     },
     "execution_count": 14,
     "metadata": {},
     "output_type": "execute_result"
    }
   ],
   "source": [
    "parameters = {'vect__min_df': [1, 5],\n",
    "            #   'tfidf__use_idf':[True, False],\n",
    "            #   'clf__estimator__n_estimators':[10, 25], \n",
    "              'clf__estimator__min_samples_split':[2, 5, 10]}\n",
    "\n",
    "\n",
    "cv = GridSearchCV(pipeline, param_grid=parameters, scoring='f1_micro', verbose = 10)\n",
    "cv.fit(X_train, y_train)"
   ]
  },
  {
   "cell_type": "markdown",
   "metadata": {},
   "source": [
    "### 7. Test your model\n",
    "Show the accuracy, precision, and recall of the tuned model.  \n",
    "\n",
    "Since this project focuses on code quality, process, and  pipelines, there is no minimum performance metric needed to pass. However, make sure to fine tune your models for accuracy, precision and recall to make your project stand out - especially for your portfolio!"
   ]
  },
  {
   "cell_type": "code",
   "execution_count": null,
   "metadata": {},
   "outputs": [],
   "source": []
  },
  {
   "cell_type": "markdown",
   "metadata": {},
   "source": [
    "### 8. Try improving your model further. Here are a few ideas:\n",
    "* try other machine learning algorithms\n",
    "* add other features besides the TF-IDF"
   ]
  },
  {
   "cell_type": "code",
   "execution_count": null,
   "metadata": {},
   "outputs": [],
   "source": []
  },
  {
   "cell_type": "markdown",
   "metadata": {},
   "source": [
    "### 9. Export your model as a pickle file"
   ]
  },
  {
   "cell_type": "code",
   "execution_count": null,
   "metadata": {},
   "outputs": [],
   "source": []
  },
  {
   "cell_type": "markdown",
   "metadata": {},
   "source": [
    "### 10. Use this notebook to complete `train_classifier.py`\n",
    "Use the template file attached in the Resources folder to write a script that runs the steps above to create a database and export a model based on a new dataset specified by the user."
   ]
  },
  {
   "cell_type": "code",
   "execution_count": null,
   "metadata": {},
   "outputs": [],
   "source": []
  }
 ],
 "metadata": {
  "kernelspec": {
   "display_name": "Python 3",
   "language": "python",
   "name": "python3"
  },
  "language_info": {
   "codemirror_mode": {
    "name": "ipython",
    "version": 3
   },
   "file_extension": ".py",
   "mimetype": "text/x-python",
   "name": "python",
   "nbconvert_exporter": "python",
   "pygments_lexer": "ipython3",
   "version": "3.12.4"
  }
 },
 "nbformat": 4,
 "nbformat_minor": 2
}
